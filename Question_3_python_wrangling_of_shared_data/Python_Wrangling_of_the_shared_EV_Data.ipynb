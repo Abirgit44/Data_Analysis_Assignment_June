{
 "cells": [
  {
   "cell_type": "markdown",
   "id": "fa261adc",
   "metadata": {},
   "source": [
    "## Python wrangling of EV data using pandas"
   ]
  },
  {
   "cell_type": "code",
   "execution_count": 12,
   "id": "3bb0b19d",
   "metadata": {},
   "outputs": [],
   "source": [
    "#first we import pandas library  associated with data wrangling using python\n",
    "import pandas as pd"
   ]
  },
  {
   "cell_type": "code",
   "execution_count": 13,
   "id": "07e90d2e",
   "metadata": {},
   "outputs": [],
   "source": [
    "#manually inputting the given data in the question\n",
    "data = {\n",
    "    'Date': ['2024-01-01', '2024-01-02', '2024-01-12'],\n",
    "    'Devices': [['abcdef', 'xyzzyx', 'ababcd'], ['opqrst', 'rd77dr'], ['xvynma']],\n",
    "    'Issues': [['emergency_stop', 'manual', 'remote_stop'], ['remote_stop', 'emergency'], ['remote_stop']],\n",
    "    'Organisation': ['EV_one', 'EV_two', 'EV_three'],\n",
    "    'Pending': ['Yes', 'No', 'Yes']\n",
    "}"
   ]
  },
  {
   "cell_type": "markdown",
   "id": "2cbd7040",
   "metadata": {},
   "source": [
    ">>Lists of column data are used as keys to represent column names and values in a dictionary data set.\n",
    "Lists of values in the Devices and Issues columns show that each row may contain more than one device and issue."
   ]
  },
  {
   "cell_type": "code",
   "execution_count": 14,
   "id": "53a90229",
   "metadata": {},
   "outputs": [
    {
     "name": "stdout",
     "output_type": "stream",
     "text": [
      "         Date                   Devices  \\\n",
      "0  2024-01-01  [abcdef, xyzzyx, ababcd]   \n",
      "1  2024-01-02          [opqrst, rd77dr]   \n",
      "2  2024-01-12                  [xvynma]   \n",
      "\n",
      "                                  Issues Organisation Pending  \n",
      "0  [emergency_stop, manual, remote_stop]       EV_one     Yes  \n",
      "1               [remote_stop, emergency]       EV_two      No  \n",
      "2                          [remote_stop]     EV_three     Yes  \n"
     ]
    }
   ],
   "source": [
    "df = pd.DataFrame(data)\n",
    "print(df)"
   ]
  },
  {
   "cell_type": "code",
   "execution_count": 15,
   "id": "cd83a98e",
   "metadata": {},
   "outputs": [],
   "source": [
    "df_normalized = df.explode(['Devices', 'Issues'])"
   ]
  },
  {
   "cell_type": "markdown",
   "id": "06f2f309",
   "metadata": {},
   "source": [
    ">>For the columns Devices and Issues in the DataFrame df, the *explode* function is called.\n",
    "The *explode* normalises the DataFrame by converting each element of a list-like column to a single row."
   ]
  },
  {
   "cell_type": "code",
   "execution_count": 16,
   "id": "8b918cbc",
   "metadata": {},
   "outputs": [
    {
     "name": "stdout",
     "output_type": "stream",
     "text": [
      "         Date Devices          Issues Organisation Pending\n",
      "0  2024-01-01  abcdef  emergency_stop       EV_one     Yes\n",
      "0  2024-01-01  xyzzyx          manual       EV_one     Yes\n",
      "0  2024-01-01  ababcd     remote_stop       EV_one     Yes\n",
      "1  2024-01-02  opqrst     remote_stop       EV_two      No\n",
      "1  2024-01-02  rd77dr       emergency       EV_two      No\n",
      "2  2024-01-12  xvynma     remote_stop     EV_three     Yes\n"
     ]
    }
   ],
   "source": [
    "print(df_normalized)"
   ]
  },
  {
   "cell_type": "markdown",
   "id": "5b2c49fc",
   "metadata": {},
   "source": [
    "#### Important Points:\n",
    ">>Explode is used to convert columns containing list-like elements such that each element in the list has its own row during the normalisation process.\n",
    "\n",
    ">>This aids in preparing the data for additional processing or analysis.\n",
    "\n",
    ">>Data Duplication: Following an explosion, rows containing non-list-like columns (such as Date, Organisation, and Pending) will have duplicate entries."
   ]
  },
  {
   "cell_type": "code",
   "execution_count": 19,
   "id": "1714abfd",
   "metadata": {},
   "outputs": [],
   "source": [
    "#making csv copy of the result\n",
    "df_normalized.to_csv('normalized_data.csv', index=False)"
   ]
  },
  {
   "cell_type": "code",
   "execution_count": null,
   "id": "035d4a12",
   "metadata": {},
   "outputs": [],
   "source": []
  },
  {
   "cell_type": "code",
   "execution_count": null,
   "id": "6396bd2e",
   "metadata": {},
   "outputs": [],
   "source": []
  }
 ],
 "metadata": {
  "kernelspec": {
   "display_name": "Python 3 (ipykernel)",
   "language": "python",
   "name": "python3"
  },
  "language_info": {
   "codemirror_mode": {
    "name": "ipython",
    "version": 3
   },
   "file_extension": ".py",
   "mimetype": "text/x-python",
   "name": "python",
   "nbconvert_exporter": "python",
   "pygments_lexer": "ipython3",
   "version": "3.9.12"
  }
 },
 "nbformat": 4,
 "nbformat_minor": 5
}
